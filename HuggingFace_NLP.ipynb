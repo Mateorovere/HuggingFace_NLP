{
 "cells": [
  {
   "cell_type": "code",
   "execution_count": null,
   "id": "a8f629dd",
   "metadata": {},
   "outputs": [],
   "source": [
    "#Primero van a necesitar instalarse el siguiente modulo:\n",
    "#pip install transformers sentencepiece"
   ]
  },
  {
   "cell_type": "code",
   "execution_count": 1,
   "id": "513817c3",
   "metadata": {},
   "outputs": [
    {
     "name": "stderr",
     "output_type": "stream",
     "text": [
      "C:\\Users\\rover\\miniconda3\\envs\\tf-gpu\\lib\\site-packages\\tqdm\\auto.py:22: TqdmWarning: IProgress not found. Please update jupyter and ipywidgets. See https://ipywidgets.readthedocs.io/en/stable/user_install.html\n",
      "  from .autonotebook import tqdm as notebook_tqdm\n"
     ]
    }
   ],
   "source": [
    "from transformers import pipeline, AutoTokenizer, AutoModelForTokenClassification, AutoModelWithLMHead\n",
    "from bs4 import BeautifulSoup\n",
    "import requests"
   ]
  },
  {
   "cell_type": "code",
   "execution_count": 2,
   "id": "feaeed37",
   "metadata": {},
   "outputs": [],
   "source": [
    "URL = 'https://www.theguardian.com/books/2022/nov/05/i-want-to-open-a-window-in-their-souls-haruki-murakami-on-the-power-of-writing-simply'"
   ]
  },
  {
   "cell_type": "code",
   "execution_count": 3,
   "id": "834f8928",
   "metadata": {},
   "outputs": [],
   "source": [
    "r = requests.get(URL)"
   ]
  },
  {
   "cell_type": "code",
   "execution_count": 4,
   "id": "13742aca",
   "metadata": {},
   "outputs": [],
   "source": [
    "soup = BeautifulSoup(r.text, 'html.parser')\n",
    "results = soup.find_all(['p'])\n",
    "text = [result.text for result in results[1:-1]]\n",
    "ARTICLE = ' '.join(text)"
   ]
  },
  {
   "cell_type": "code",
   "execution_count": 5,
   "id": "721c1478",
   "metadata": {
    "collapsed": true
   },
   "outputs": [
    {
     "data": {
      "text/plain": [
       "'My first novel, Hear the Wind Sing, published in 1979, is fewer than 200 pages long. Yet it took many months and much effort to complete. Part of the reason, of course, was the limited time I had to work on it. I ran a jazz cafe, and I spent my 20s labouring from morning to night to pay off debts. But the real problem was that I hadn’t a clue how to write a novel. To tell the truth, although I had been absorbed in reading all kinds of stuff – my favourites being translations of Russian novels and English-language paperbacks – I had never read modern Japanese novels (of the “serious” variety) in any concerted way. Thus I had no idea what kind of Japanese literature was being read at the time or how I should write fiction in Japanese. For several months, I operated on pure guesswork, adopting what seemed to be a likely style and running with it, but when I read through the result I was far from impressed. “Good grief,” I moaned, “this is hopeless.” What I had written seemed to fulfil the formal requirements of a novel, yet it was rather boring and, as a whole, left me cold. In retrospect, it was only natural that I was unable to produce a good novel. It was a big mistake to assume that a guy like me who had never written anything in his life could spin out something brilliant right off the bat. Maybe it had been a mistake to try to write something “novelistic” in the first place. “Give up trying to create something sophisticated,” I told myself. “Why not forget all those prescriptive ideas about ‘the novel’ and ‘literature’ and set down your feelings and thoughts as they come to you, freely, in a way that you like?” While it was easy to talk about setting down one’s impressions freely, though, actually doing it wasn’t that simple. To make a fresh start, the first thing I had to do was ditch my stack of manuscript paper and my fountain pen. As long as they were sitting in front of me, what I was doing felt like “literature”. In their place, I pulled out my old Olivetti typewriter from the closet. Then, as an experiment, I decided to write the opening of my novel in English. What the hell, I figured. If I was going to do something unorthodox, why not go all the way? Needless to say, my ability in English composition didn’t amount to much. My vocabulary was severely limited, as was my command of English syntax. I could only write in short, simple sentences. Which meant that, however complex and numerous the thoughts running around in my head, I couldn’t even attempt to set them down as they came to me. The language had to be simple, my ideas expressed in an easy-to-understand way, the descriptions stripped of all extraneous fat, the form made compact, and everything arranged to fit a container of limited size. The result was a rough, uncultivated kind of prose. As I struggled to express myself in that fashion, however, a distinctive rhythm began to take shape. I was born and raised in Japan, so the vocabulary and patterns of Japanese – in short, the language’s contents – had filled the system that was me to bursting. When I sought to put my thoughts and feelings into words, those contents began to swirl like mad, and the system sometimes crashed. Writing in a foreign language, with all the limitations that it entailed, removed this obstacle. It also led me to the realisation that I could express my thoughts and feelings with a limited set of words and grammatical structures, as long as I combined them effectively and linked them together in a skilful manner. Ultimately, I learned that there was no need for a lot of difficult words – I didn’t have to try to impress people with beautiful turns of phrase. Much later, I found out that the writer Ágota Kristóf had written a number of wonderful novels in a style that had a very similar effect. Kristóf was a Hungarian citizen who left Hungary in 1956 during the upheaval there for Switzerland, where she began to write in French. She did so partly out of necessity, since there was no way she could make a living writing novels in Hungarian. Yet it was through writing in a foreign language that she succeeded in developing a style that was new and uniquely hers. It featured a strong rhythm based on short sentences, diction that was never roundabout but always straightforward, and description that was to the point and free of emotional baggage. Her novels were cloaked in an air of mystery hinting at important matters hidden beneath the surface. Later, when I first encountered her work, it made me feel quite nostalgic, although her literary inclinations are obviously different from mine. Having discovered the curious effect of composing in a foreign language, thereby acquiring a creative rhythm distinctly my own, I returned my Olivetti to the closet and once more pulled out my sheaf of manuscript paper and my fountain pen. Then I sat down and “translated” the chapter or so that I had written in English into Japanese. Well, “transplanted” might be more accurate, since it wasn’t a verbatim translation. In the process, inevitably, a new style of Japanese emerged. The style that became mine, one that I had discovered. “Now I get it,” I thought. “This is how I should be doing it.” It was a moment of true clarity. I rewrote the “rather boring” novel I had just finished from top to bottom in the new style that I had just developed. Although the storyline remained more or less intact, the mode of expression was entirely different. Different, too, was its impact on the reader. It was, of course, the short novel Hear the Wind Sing. I wasn’t entirely satisfied with the way it turned out. When I reread it, I found it immature and riddled with faults. Only 20-30% of what I was trying to say came across. Yet it was my first novel, and I had managed to write in a form that somehow worked, so I was left with the feeling that I had taken a big first step. Writing in my new style felt more like performing music than composing literature, a feeling that stays with me today. It was as if the words were coming through my body instead of from my head. Sustaining the rhythm, finding the coolest chords, trusting in the power of improvisation – it was tremendously exciting. When I sat down at the kitchen table each night and went back to work on my novel (if that’s what it was) using my new style, I felt like I was holding a new, cutting-edge tool in my hands. Boy oh boy, was it fun! And it filled the spiritual void that had loomed with the approach of my 30th birthday. From the outset, I had a pretty clear idea of the novels I wanted to create. It seems that I discovered my “original” voice and style, not by adding to what I already knew but subtracting from it. Think how many things we pick up in the course of living. Whether we choose to call it information overload or excess baggage, we have that multitude of options to choose from, so that when we try to express ourselves creatively, all those choices collide with each other and we shut down, like a stalled engine. We become paralysed. Our best recourse is to clear out our information system by chucking all that is unnecessary into the bin, allowing our mind to move freely again. How, then, can we distinguish between those contents that are crucial, those that are less necessary, and those that are entirely unnecessary? One rule of thumb is to ask yourself, “Am I having a good time doing this?” If you’re not enjoying yourself when you’re engaged in what seems important to you, if you can’t find spontaneous pleasure and joy in it, then there’s likely something wrong. When that happens, you have to go back to the beginning and start discarding any extraneous parts or unnatural elements. That can be a lot harder than it sounds. Right after Hear the Wind Sing won a Japanese literary prize for new writers, a high-school classmate of mine stopped by my jazz cafe to offer his comments on my novel. “If something that simple can make it, I could write a novel, too,” he sniffed, and left. I was a little put out, of course, but I also knew what he meant. “The guy may not be entirely off the mark,” I thought. “Perhaps anybody could turn out something as good.” All I had done was sit down and riff on whatever came into my head. There were no complicated words, no elaborate phrases, no elegant style. I had just thrown it together as I went along. If that classmate of mine did go home and write a novel, however, I never heard about it. Maybe he figured there was no need for him to write in a world where novels as half-baked as mine could pass muster. If so, it probably showed good judgment on his part. Looking back, however, it strikes me that for an aspiring writer, writing “something that simple” may not be so simple. It’s easy enough to think and talk about ridding your mind of unnecessary things, but actually doing it is hard. I think that I was able to pull it off without too much fuss because I had never been obsessed by the idea of being a writer, so I was not hindered by that ambition. If there is indeed something original about my novels, I think it springs from the principle of freedom. I had just turned 29 when, for no particular reason, I thought, “I feel like writing a novel!” I had never planned to be a writer and had never given serious thought to what sort of novel I should be writing, which meant that I was under no particular constraints. I just wanted to write something that reflected what I was feeling at the time. There was no need to feel self-conscious. In fact, writing was fun – it let me feel free and natural. Sign up to Inside Saturday The inside story from our top Saturday magazine writers as well as all the must-read articles after newsletter promotion I think (or hope) that free and natural sensibility lies at the heart of my novels. That is what has spurred me to write. My engine, as it were. It is my belief that a rich, spontaneous joy lies at the root of all creative expression. What is originality, after all, but the shape that results from the natural impulse to communicate to others that feeling of freedom, that unconstrained joy? Perhaps pure impulse brings with it its own form and style in a natural, involuntary way. Form and style are, in that sense, far from artificial. A brilliant person may use every ounce of his intelligence to develop form and style, may diagram every step, but if he lacks that natural impulse he is likely to fail or, if not fail, produce something that will not last. It will be like a plant whose roots are not firmly set in the earth: if there is too little rain it will lose its vitality and wither, while if it rains too hard it will be swept away with the topsoil. This is purely my opinion, but if you want to express yourself as freely as you can, it’s probably best not to start out by asking “What am I seeking?” Rather, it’s better to ask “Who would I be if I weren’t seeking anything?” and then try to visualise that aspect of yourself. Asking “What am I seeking?” invariably leads you to ponder heavy issues. The heavier that discussion gets, the farther freedom retreats, and the slower your footwork becomes. The slower your footwork, the less lively your prose. When that happens, your writing won’t charm anyone – possibly even you. The you who is not seeking anything, by contrast, is as light and free as a butterfly. All you have to do is uncup your hands and let it soar. Your words will flow effortlessly. People normally don’t concern themselves with self-expression – they just live their lives. Yet, despite that, you want to say something. Perhaps it is in the natural context of “despite that” where we unexpectedly catch sight of something essential about ourselves. I have been writing fiction for more than 40 years; yet I have never experienced what is commonly known as “writer’s block”. Wanting to write but being unable to is unknown to me. That may make it sound as if I am overflowing with talent, but the actual reason is much simpler: I never write unless I really want to, unless the desire to write is overwhelming. When I feel that desire, I sit down and set to work. When I don’t feel it, I usually turn to translating from English. Since translation is essentially a technical operation, I can pursue it on a daily basis, quite separate from my creative desire; yet at the same time it is a good way to hone my writing skills. If I am in the mood, I may also turn to writing essays. “What the heck,” I defiantly tell myself as I peck away at those other projects. “Not writing novels isn’t going to kill me.” After a while, however, the desire to write begins to mount. I can feel my material building up within me, like spring melt pressing against a dam. Then one day (in a best-case scenario), when I can’t take that pressure any more, I sit down at my desk and start to write. Worry about editors impatiently awaiting a promised manuscript never enters the picture. I don’t make promises, so I don’t have deadlines. As a result, writer’s block and I are strangers to each other. As you might expect, that makes my life much happier. It must be terribly stressful for a writer to be put in the position of having to write when he doesn’t feel like it. (Could I be wrong? Do most writers actually thrive on that kind of stress?) When I think about “originality” I am transported back to my boyhood days. I can see myself in my room sitting in front of my little transistor radio listening for the first time to the Beach Boys (Surfin’ USA) and the Beatles (Please Please Me). “Wow!” I’m thinking. “This is fantastic! I’ve never heard anything like this!” I am so moved. It is as if their music has thrown open a new window in my soul, and air of a kind I have never breathed before is pouring in. I feel a sense of profound wellbeing, a natural high. Liberated from the constraints of reality, it is as if my feet have left the ground. This to me is how “originality” should feel: pure and simple. I came across this line recently in the New York Times, written about the American debut of the Beatles: “They produced a sound that was fresh, energetic and unmistakably their own.” These words may provide the best definition of originality available. “Fresh, energetic, and unmistakably your own.” Originality is hard to define in words, but it is possible to describe and reproduce the emotional state it evokes. I try to attain that emotional state each time I sit down to write my novels. That’s because it feels so wonderfully invigorating. It’s as if a new and different day is being born from the day that is today. If possible, I would like my readers to savour that same emotion when they read my books. I want to open a window in their souls and let the fresh air in. This is what I think of, and hope for, as I write – purely and simply.'"
      ]
     },
     "execution_count": 5,
     "metadata": {},
     "output_type": "execute_result"
    }
   ],
   "source": [
    "ARTICLE"
   ]
  },
  {
   "cell_type": "code",
   "execution_count": 5,
   "id": "7d34b228",
   "metadata": {},
   "outputs": [],
   "source": [
    "ARTICLE = ARTICLE.replace('.', '.<eos>')\n",
    "ARTICLE = ARTICLE.replace('?', '?<eos>')\n",
    "ARTICLE = ARTICLE.replace('!', '!<eos>')"
   ]
  },
  {
   "cell_type": "code",
   "execution_count": 6,
   "id": "8c915a28",
   "metadata": {},
   "outputs": [],
   "source": [
    "sentences = ARTICLE.split('<eos>')"
   ]
  },
  {
   "cell_type": "markdown",
   "id": "3902cb50",
   "metadata": {},
   "source": [
    "<h3>Sentiment Analysis</h3>"
   ]
  },
  {
   "cell_type": "markdown",
   "id": "866250ee",
   "metadata": {},
   "source": [
    "sentiment analysis detection system in which you can select a sentence or parragraph of the article and it will return whether it is positive or negative"
   ]
  },
  {
   "cell_type": "code",
   "execution_count": 8,
   "id": "55372935",
   "metadata": {},
   "outputs": [
    {
     "name": "stderr",
     "output_type": "stream",
     "text": [
      "No model was supplied, defaulted to distilbert-base-uncased-finetuned-sst-2-english and revision af0f99b (https://huggingface.co/distilbert-base-uncased-finetuned-sst-2-english).\n",
      "Using a pipeline without specifying a model name and revision in production is not recommended.\n",
      "Xformers is not installed correctly. If you want to use memory_efficient_attention to accelerate training use the following command to install Xformers\n",
      "pip install xformers.\n"
     ]
    },
    {
     "data": {
      "text/plain": [
       "[{'label': 'NEGATIVE', 'score': 0.9965852499008179}]"
      ]
     },
     "execution_count": 8,
     "metadata": {},
     "output_type": "execute_result"
    }
   ],
   "source": [
    "sentiment_analysis = pipeline(\"sentiment-analysis\")\n",
    "res = sentiment_analysis(sentences[3])\n",
    "res"
   ]
  },
  {
   "cell_type": "markdown",
   "id": "4283237c",
   "metadata": {},
   "source": [
    "<h3>Summarization</h3>\n",
    "I have to split the blog in smaller chunks"
   ]
  },
  {
   "cell_type": "code",
   "execution_count": 9,
   "id": "75e1319a",
   "metadata": {},
   "outputs": [
    {
     "name": "stderr",
     "output_type": "stream",
     "text": [
      "No model was supplied, defaulted to sshleifer/distilbart-cnn-12-6 and revision a4f8f3e (https://huggingface.co/sshleifer/distilbart-cnn-12-6).\n",
      "Using a pipeline without specifying a model name and revision in production is not recommended.\n"
     ]
    }
   ],
   "source": [
    "summarizer = pipeline(\"summarization\")"
   ]
  },
  {
   "cell_type": "code",
   "execution_count": 28,
   "id": "a9e9df8a",
   "metadata": {},
   "outputs": [],
   "source": [
    "max_chunk = 500"
   ]
  },
  {
   "cell_type": "code",
   "execution_count": 29,
   "id": "497230c5",
   "metadata": {},
   "outputs": [
    {
     "name": "stdout",
     "output_type": "stream",
     "text": [
      "0\n"
     ]
    }
   ],
   "source": [
    "sentences = ARTICLE.split('<eos>')\n",
    "current_chunk = 0 \n",
    "chunks = []\n",
    "for sentence in sentences:\n",
    "    if len(chunks) == current_chunk + 1: \n",
    "        if len(chunks[current_chunk]) + len(sentence.split(' ')) <= max_chunk:\n",
    "            chunks[current_chunk].extend(sentence.split(' '))\n",
    "        else:\n",
    "            current_chunk += 1\n",
    "            chunks.append(sentence.split(' '))\n",
    "    else:\n",
    "        print(current_chunk)\n",
    "        chunks.append(sentence.split(' '))\n",
    "\n",
    "for chunk_id in range(len(chunks)):\n",
    "    chunks[chunk_id] = ' '.join(chunks[chunk_id])"
   ]
  },
  {
   "cell_type": "code",
   "execution_count": 33,
   "id": "22200ea9",
   "metadata": {},
   "outputs": [],
   "source": [
    "res = summarizer(chunks, max_length=200, min_length=25, do_sample=False)"
   ]
  },
  {
   "cell_type": "code",
   "execution_count": 34,
   "id": "3cf75737",
   "metadata": {},
   "outputs": [],
   "source": [
    "text_sum = ' '.join([summ['summary_text'] for summ in res])"
   ]
  },
  {
   "cell_type": "code",
   "execution_count": 35,
   "id": "2d7424d4",
   "metadata": {},
   "outputs": [
    {
     "data": {
      "text/plain": [
       "' My first novel, Hear the Wind Sing, published in 1979, is fewer than 200 pages long . It took many months and much effort to complete . But the real problem was that I hadn’t a clue how to write a novel .  Japanese was born and raised in Japan, so the vocabulary and patterns of Japanese – in short, the language’s contents – filled the system that was me to bursting . The language had to be simple, my ideas expressed in an easy-to-understand way, the descriptions stripped of all extraneous fat, the form made compact, and everything arranged to fit a container of limited size . The result was a rough, uncultivated kind of prose, but a distinctive rhythm began to take shape .  I rewrote the “rather boring” novel I had just finished from top to bottom in the new style . Writing in my new style felt more like performing music than composing literature . It was as if the words were coming through my body instead of from my head .  Hear the Wind Sing won a Japanese literary prize for new writers in Japan . \"I had never planned to be a writer and had never given serious thought to what sort of novel I should be writing, which meant that I was under no particular constraints . I just wanted to write something that reflected what I was feeling at the time .  Asking “What am I seeking? ” invariably leads you to ponder heavy issues . The heavier that discussion gets, the farther freedom retreats, and the slower your footwork becomes . The you who is not seeking anything, by contrast, is as light and free as a butterfly . All you have to do is uncup your hands and let it soar .  When I think about “originality” I am transported back to my boyhood days . I try to attain that emotional state each time I sit down to write my novels . Originality is hard to define in words, but it is possible to describe and reproduce the emotional state it evokes . I want to open a window in their souls and let the fresh air in .'"
      ]
     },
     "execution_count": 35,
     "metadata": {},
     "output_type": "execute_result"
    }
   ],
   "source": [
    "text_sum"
   ]
  },
  {
   "cell_type": "markdown",
   "id": "5e49a0df",
   "metadata": {},
   "source": [
    "<h3>Question Generation </h3>"
   ]
  },
  {
   "cell_type": "markdown",
   "id": "f9e2d984",
   "metadata": {},
   "source": [
    "This question generator creates questions based on a paragraph or a sentence of the article and the proper answer, and then it generates a question."
   ]
  },
  {
   "cell_type": "code",
   "execution_count": 25,
   "id": "25b55942",
   "metadata": {},
   "outputs": [
    {
     "name": "stderr",
     "output_type": "stream",
     "text": [
      "The `xla_device` argument has been deprecated in v4.4.0 of Transformers. It is ignored and you can safely remove it from your `config.json` file.\n",
      "The `xla_device` argument has been deprecated in v4.4.0 of Transformers. It is ignored and you can safely remove it from your `config.json` file.\n",
      "The `xla_device` argument has been deprecated in v4.4.0 of Transformers. It is ignored and you can safely remove it from your `config.json` file.\n",
      "The `xla_device` argument has been deprecated in v4.4.0 of Transformers. It is ignored and you can safely remove it from your `config.json` file.\n"
     ]
    },
    {
     "data": {
      "text/plain": [
       "'<pad> question: What was the name of my first novel?</s>'"
      ]
     },
     "execution_count": 25,
     "metadata": {},
     "output_type": "execute_result"
    }
   ],
   "source": [
    "from transformers import AutoModelWithLMHead, AutoTokenizer\n",
    "\n",
    "tokenizer = AutoTokenizer.from_pretrained(\"mrm8488/t5-base-finetuned-question-generation-ap\")\n",
    "model = AutoModelWithLMHead.from_pretrained(\"mrm8488/t5-base-finetuned-question-generation-ap\")\n",
    "\n",
    "def get_question(answer, context, max_length=64):\n",
    "  input_text = \"answer: %s  context: %s </s>\" % (answer, context)\n",
    "  features = tokenizer([input_text], return_tensors='pt')\n",
    "\n",
    "  output = model.generate(input_ids=features['input_ids'], \n",
    "               attention_mask=features['attention_mask'],\n",
    "               max_length=max_length)\n",
    "\n",
    "  return tokenizer.decode(output[0])\n",
    "\n",
    "context = text[0]\n",
    "# tambien se podria escribir cualquier parrafo u oracion\n",
    "answer = 'Hear the Wind Sing'\n",
    "get_question(answer, context)"
   ]
  }
 ],
 "metadata": {
  "kernelspec": {
   "display_name": "Python 3 (ipykernel)",
   "language": "python",
   "name": "python3"
  },
  "language_info": {
   "codemirror_mode": {
    "name": "ipython",
    "version": 3
   },
   "file_extension": ".py",
   "mimetype": "text/x-python",
   "name": "python",
   "nbconvert_exporter": "python",
   "pygments_lexer": "ipython3",
   "version": "3.9.16"
  }
 },
 "nbformat": 4,
 "nbformat_minor": 5
}
